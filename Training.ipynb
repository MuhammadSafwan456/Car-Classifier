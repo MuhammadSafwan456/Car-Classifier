{
  "nbformat": 4,
  "nbformat_minor": 0,
  "metadata": {
    "colab": {
      "name": "Training.ipynb",
      "provenance": [],
      "collapsed_sections": [],
      "machine_shape": "hm"
    },
    "kernelspec": {
      "name": "python3",
      "display_name": "Python 3"
    },
    "accelerator": "GPU",
    "widgets": {
      "application/vnd.jupyter.widget-state+json": {
        "bc17866a1037429982875898924d67cc": {
          "model_module": "@jupyter-widgets/controls",
          "model_name": "HBoxModel",
          "state": {
            "_view_name": "HBoxView",
            "_dom_classes": [],
            "_model_name": "HBoxModel",
            "_view_module": "@jupyter-widgets/controls",
            "_model_module_version": "1.5.0",
            "_view_count": null,
            "_view_module_version": "1.5.0",
            "box_style": "",
            "layout": "IPY_MODEL_807fb9e703e64e5fb3b79d3857f2e34f",
            "_model_module": "@jupyter-widgets/controls",
            "children": [
              "IPY_MODEL_f497f6d41eb74ffca705a39461bd43c7",
              "IPY_MODEL_d4de79dad66e4473bc78ad789bb12e68"
            ]
          }
        },
        "807fb9e703e64e5fb3b79d3857f2e34f": {
          "model_module": "@jupyter-widgets/base",
          "model_name": "LayoutModel",
          "state": {
            "_view_name": "LayoutView",
            "grid_template_rows": null,
            "right": null,
            "justify_content": null,
            "_view_module": "@jupyter-widgets/base",
            "overflow": null,
            "_model_module_version": "1.2.0",
            "_view_count": null,
            "flex_flow": null,
            "width": null,
            "min_width": null,
            "border": null,
            "align_items": null,
            "bottom": null,
            "_model_module": "@jupyter-widgets/base",
            "top": null,
            "grid_column": null,
            "overflow_y": null,
            "overflow_x": null,
            "grid_auto_flow": null,
            "grid_area": null,
            "grid_template_columns": null,
            "flex": null,
            "_model_name": "LayoutModel",
            "justify_items": null,
            "grid_row": null,
            "max_height": null,
            "align_content": null,
            "visibility": null,
            "align_self": null,
            "height": null,
            "min_height": null,
            "padding": null,
            "grid_auto_rows": null,
            "grid_gap": null,
            "max_width": null,
            "order": null,
            "_view_module_version": "1.2.0",
            "grid_template_areas": null,
            "object_position": null,
            "object_fit": null,
            "grid_auto_columns": null,
            "margin": null,
            "display": null,
            "left": null
          }
        },
        "f497f6d41eb74ffca705a39461bd43c7": {
          "model_module": "@jupyter-widgets/controls",
          "model_name": "FloatProgressModel",
          "state": {
            "_view_name": "ProgressView",
            "style": "IPY_MODEL_470b5772f74f462d87e5177d34841829",
            "_dom_classes": [],
            "description": "100%",
            "_model_name": "FloatProgressModel",
            "bar_style": "success",
            "max": 87306240,
            "_view_module": "@jupyter-widgets/controls",
            "_model_module_version": "1.5.0",
            "value": 87306240,
            "_view_count": null,
            "_view_module_version": "1.5.0",
            "orientation": "horizontal",
            "min": 0,
            "description_tooltip": null,
            "_model_module": "@jupyter-widgets/controls",
            "layout": "IPY_MODEL_37588f490c16470e969495982143ffa9"
          }
        },
        "d4de79dad66e4473bc78ad789bb12e68": {
          "model_module": "@jupyter-widgets/controls",
          "model_name": "HTMLModel",
          "state": {
            "_view_name": "HTMLView",
            "style": "IPY_MODEL_d1be1547d4cf467dac9ee8f1c3ab7168",
            "_dom_classes": [],
            "description": "",
            "_model_name": "HTMLModel",
            "placeholder": "​",
            "_view_module": "@jupyter-widgets/controls",
            "_model_module_version": "1.5.0",
            "value": " 83.3M/83.3M [00:01&lt;00:00, 82.6MB/s]",
            "_view_count": null,
            "_view_module_version": "1.5.0",
            "description_tooltip": null,
            "_model_module": "@jupyter-widgets/controls",
            "layout": "IPY_MODEL_fdc6bfbc230c4c5c8d7da2bf58d41a15"
          }
        },
        "470b5772f74f462d87e5177d34841829": {
          "model_module": "@jupyter-widgets/controls",
          "model_name": "ProgressStyleModel",
          "state": {
            "_view_name": "StyleView",
            "_model_name": "ProgressStyleModel",
            "description_width": "initial",
            "_view_module": "@jupyter-widgets/base",
            "_model_module_version": "1.5.0",
            "_view_count": null,
            "_view_module_version": "1.2.0",
            "bar_color": null,
            "_model_module": "@jupyter-widgets/controls"
          }
        },
        "37588f490c16470e969495982143ffa9": {
          "model_module": "@jupyter-widgets/base",
          "model_name": "LayoutModel",
          "state": {
            "_view_name": "LayoutView",
            "grid_template_rows": null,
            "right": null,
            "justify_content": null,
            "_view_module": "@jupyter-widgets/base",
            "overflow": null,
            "_model_module_version": "1.2.0",
            "_view_count": null,
            "flex_flow": null,
            "width": null,
            "min_width": null,
            "border": null,
            "align_items": null,
            "bottom": null,
            "_model_module": "@jupyter-widgets/base",
            "top": null,
            "grid_column": null,
            "overflow_y": null,
            "overflow_x": null,
            "grid_auto_flow": null,
            "grid_area": null,
            "grid_template_columns": null,
            "flex": null,
            "_model_name": "LayoutModel",
            "justify_items": null,
            "grid_row": null,
            "max_height": null,
            "align_content": null,
            "visibility": null,
            "align_self": null,
            "height": null,
            "min_height": null,
            "padding": null,
            "grid_auto_rows": null,
            "grid_gap": null,
            "max_width": null,
            "order": null,
            "_view_module_version": "1.2.0",
            "grid_template_areas": null,
            "object_position": null,
            "object_fit": null,
            "grid_auto_columns": null,
            "margin": null,
            "display": null,
            "left": null
          }
        },
        "d1be1547d4cf467dac9ee8f1c3ab7168": {
          "model_module": "@jupyter-widgets/controls",
          "model_name": "DescriptionStyleModel",
          "state": {
            "_view_name": "StyleView",
            "_model_name": "DescriptionStyleModel",
            "description_width": "",
            "_view_module": "@jupyter-widgets/base",
            "_model_module_version": "1.5.0",
            "_view_count": null,
            "_view_module_version": "1.2.0",
            "_model_module": "@jupyter-widgets/controls"
          }
        },
        "fdc6bfbc230c4c5c8d7da2bf58d41a15": {
          "model_module": "@jupyter-widgets/base",
          "model_name": "LayoutModel",
          "state": {
            "_view_name": "LayoutView",
            "grid_template_rows": null,
            "right": null,
            "justify_content": null,
            "_view_module": "@jupyter-widgets/base",
            "overflow": null,
            "_model_module_version": "1.2.0",
            "_view_count": null,
            "flex_flow": null,
            "width": null,
            "min_width": null,
            "border": null,
            "align_items": null,
            "bottom": null,
            "_model_module": "@jupyter-widgets/base",
            "top": null,
            "grid_column": null,
            "overflow_y": null,
            "overflow_x": null,
            "grid_auto_flow": null,
            "grid_area": null,
            "grid_template_columns": null,
            "flex": null,
            "_model_name": "LayoutModel",
            "justify_items": null,
            "grid_row": null,
            "max_height": null,
            "align_content": null,
            "visibility": null,
            "align_self": null,
            "height": null,
            "min_height": null,
            "padding": null,
            "grid_auto_rows": null,
            "grid_gap": null,
            "max_width": null,
            "order": null,
            "_view_module_version": "1.2.0",
            "grid_template_areas": null,
            "object_position": null,
            "object_fit": null,
            "grid_auto_columns": null,
            "margin": null,
            "display": null,
            "left": null
          }
        }
      }
    }
  },
  "cells": [
    {
      "cell_type": "code",
      "metadata": {
        "id": "m5UAMvGa7C3U",
        "colab_type": "code",
        "colab": {
          "base_uri": "https://localhost:8080/",
          "height": 122
        },
        "outputId": "1a9a64f7-59b4-4d22-a8e8-98bb9004d30d"
      },
      "source": [
        "#to moun the google drive\n",
        "from google.colab import drive\n",
        "drive.mount('/content/drive')"
      ],
      "execution_count": 1,
      "outputs": [
        {
          "output_type": "stream",
          "text": [
            "Go to this URL in a browser: https://accounts.google.com/o/oauth2/auth?client_id=947318989803-6bn6qk8qdgf4n4g3pfee6491hc0brc4i.apps.googleusercontent.com&redirect_uri=urn%3aietf%3awg%3aoauth%3a2.0%3aoob&scope=email%20https%3a%2f%2fwww.googleapis.com%2fauth%2fdocs.test%20https%3a%2f%2fwww.googleapis.com%2fauth%2fdrive%20https%3a%2f%2fwww.googleapis.com%2fauth%2fdrive.photos.readonly%20https%3a%2f%2fwww.googleapis.com%2fauth%2fpeopleapi.readonly&response_type=code\n",
            "\n",
            "Enter your authorization code:\n",
            "··········\n",
            "Mounted at /content/drive\n"
          ],
          "name": "stdout"
        }
      ]
    },
    {
      "cell_type": "markdown",
      "metadata": {
        "id": "Lu5v8DBayVwE",
        "colab_type": "text"
      },
      "source": [
        ""
      ]
    },
    {
      "cell_type": "code",
      "metadata": {
        "id": "S_zj2ObuNuAw",
        "colab_type": "code",
        "colab": {}
      },
      "source": [
        "#TO import data from google drive\n",
        "from pydrive.auth import GoogleAuth\n",
        "from pydrive.drive import GoogleDrive\n",
        "from google.colab import auth\n",
        "from oauth2client.client import GoogleCredentials"
      ],
      "execution_count": 2,
      "outputs": []
    },
    {
      "cell_type": "code",
      "metadata": {
        "id": "aHg-XMleNymQ",
        "colab_type": "code",
        "colab": {}
      },
      "source": [
        "#to authenticate google drive account\n",
        "auth.authenticate_user()\n",
        "gauth = GoogleAuth()\n",
        "gauth.credentials = GoogleCredentials.get_application_default()\n",
        "drive = GoogleDrive(gauth)"
      ],
      "execution_count": 3,
      "outputs": []
    },
    {
      "cell_type": "code",
      "metadata": {
        "id": "9S5av8tXOF9O",
        "colab_type": "code",
        "colab": {}
      },
      "source": [
        "#Bring file in /content/ from google drive\n",
        "#https://drive.google.com/open?id=1lZYdxyO5pFFHvjxdFtGA8m9WS9haUHG5\n",
        "#https://drive.google.com/open?id=1a3p1KL3egwoR76t90PaMdtszh_USRoPq\n",
        "downloaded = drive.CreateFile({'id':\"1a3p1KL3egwoR76t90PaMdtszh_USRoPq\"})   # replace the id with id of file you want to access\n",
        "downloaded.GetContentFile('Final-Updated-stanford-car-dataset-by-classes-folder.zip')        # replace the file name with your file"
      ],
      "execution_count": 4,
      "outputs": []
    },
    {
      "cell_type": "code",
      "metadata": {
        "id": "oT71NP7JjP49",
        "colab_type": "code",
        "colab": {}
      },
      "source": [
        "#downloading DataSet From Kaggle using API\n",
        "#import os\n",
        "#os.environ['KAGGLE_USERNAME'] = \"muhammadsafwan\" # username from the json file\n",
        "#os.environ['KAGGLE_KEY'] = \"54baf031d17e8d10d150668cdbeca660\" # key from the json file\n",
        "#!kaggle datasets download -d jutrera/stanford-car-dataset-by-classes-folder # api copied from kaggle\n"
      ],
      "execution_count": 5,
      "outputs": []
    },
    {
      "cell_type": "code",
      "metadata": {
        "id": "CuXT-itSmhSl",
        "colab_type": "code",
        "colab": {}
      },
      "source": [
        "#Unzipping the files\n",
        "!unzip -q \"/content/Final-Updated-stanford-car-dataset-by-classes-folder.zip\"\n"
      ],
      "execution_count": 6,
      "outputs": []
    },
    {
      "cell_type": "code",
      "metadata": {
        "id": "r8a5X2yImilb",
        "colab_type": "code",
        "colab": {}
      },
      "source": [
        "#Importing libraries\n",
        "import matplotlib.pyplot as plt   #for ploting\n",
        "import numpy as np                #for arrays\n",
        "import torch                      #for definig neural network\n",
        "from torch import nn              #for definign NN\n",
        "from torch import optim           #for defining optimizer\n",
        "from torchsummary import summary  #for model summary\n",
        "import torch.nn.functional as F   #for \n",
        "from torchvision import datasets, transforms, models  #for downloading models\n",
        "import torchvision.models as models   #for downlaoding models\n",
        "from PIL import Image         #for manipulating image \n",
        "from matplotlib.ticker import FormatStrFormatter #for Ploting\n",
        "import os                           #for Directories\n",
        "                            \n"
      ],
      "execution_count": 7,
      "outputs": []
    },
    {
      "cell_type": "code",
      "metadata": {
        "id": "ZB_e3fhnnBAU",
        "colab_type": "code",
        "colab": {}
      },
      "source": [
        "# Tansform with data augmentation and normalization for training\n",
        "# Just normalization for validation\n",
        "# Training transform includes random rotation and flip to build a more robust model\n",
        "\n",
        "#definig augmentation for train data RESIZING ROTATING FLIP CONVERTING TO TENSOR AND NORMALIZATION\n",
        "\n",
        "train_transforms = transforms.Compose([transforms.Resize((244,244)),\n",
        "                                       transforms.RandomRotation(30),\n",
        "                                       transforms.RandomHorizontalFlip(),\n",
        "                                       transforms.ToTensor(),\n",
        "                                       transforms.Normalize((0.5, 0.5, 0.5), (0.5, 0.5, 0.5))])\n",
        "\n",
        "#transform for valid data RESIZE CONVERTING TO TENSOR NORMALIZATIOM\n",
        "valid_transforms = transforms.Compose([transforms.Resize((244,244)),\n",
        "                                      transforms.ToTensor(),\n",
        "                                      transforms.Normalize((0.5, 0.5, 0.5), (0.5, 0.5, 0.5))])\n",
        "\n",
        "\n",
        "#transform for test data RESIZE CONVERTING TO TENSOR NORMALIZATIOM\n",
        "test_transforms = transforms.Compose([transforms.Resize((244,244)),\n",
        "                                      transforms.ToTensor(),\n",
        "                                      transforms.Normalize((0.5, 0.5, 0.5), (0.5, 0.5, 0.5))])\n",
        "\n"
      ],
      "execution_count": 8,
      "outputs": []
    },
    {
      "cell_type": "code",
      "metadata": {
        "id": "P7EYae93nnTF",
        "colab_type": "code",
        "colab": {
          "base_uri": "https://localhost:8080/",
          "height": 139
        },
        "outputId": "f9f9aef1-b9a6-4085-ab62-36f492534f43"
      },
      "source": [
        "train_dir = '/content/Final-Updated-stanford-car-dataset-by-classes-folder/car_data/car_data/train'\n",
        "test_dir = '/content/Final-Updated-stanford-car-dataset-by-classes-folder/car_data/car_data/test'\n",
        "#label_dir = '/content/Updated-stanford-car-dataset-by-classes-folder/names.csv'\n",
        "\n",
        "\n",
        "#Loading in the dataset\n",
        "#train_dir = r'D:\\Python Project\\PytorchPractice\\CarClassifier\\classifier\\stanford-car-dataset-by-classes-folder\\car_data\\car_data\\train'\n",
        "#test_dir = r'D:\\Python Project\\PytorchPractice\\CarClassifier\\classifier\\stanford-car-dataset-by-classes-folder\\car_data\\car_data\\test'\n",
        "#label_dir = r'D:\\Python Project\\PytorchPractice\\CarClassifier\\classifier\\stanford-car-dataset-by-classes-folder\\names.csv'\n",
        "#train_dir = r'F:\\Sample Data\\data 10 cars\\data\\train'\n",
        "#test_dir = r'F:\\Sample Data\\data 10 cars\\data\\test'\n",
        "#label_dir = r'D:\\Python Project\\PytorchPractice\\CarClassifier\\classifier\\stanford-car-dataset-by-classes-folder\\names.csv'\n",
        "\n",
        "batch_size=64\n",
        "#no of images feed to the network at one time\n",
        "\n",
        "#Loading Dataset\n",
        "dataset = datasets.ImageFolder(train_dir,transform=train_transforms)\n",
        "testdataset = datasets.ImageFolder(test_dir,transform=test_transforms)\n",
        "# splitting our dataset into Train and Validation Dataset\n",
        "valid_size  = int(0.1 * len(dataset))\n",
        "train_size = len(dataset) - valid_size\n",
        "dataset_sizes = {'train': train_size, 'valid': valid_size}\n",
        "\n",
        "train_dataset, valid_dataset = torch.utils.data.random_split(dataset, [train_size, valid_size])\n",
        "\n",
        "# Loading datasets into dataloader\n",
        "trainloader = torch.utils.data.DataLoader(train_dataset, batch_size=batch_size, shuffle=True)\n",
        "validloader = torch.utils.data.DataLoader(valid_dataset, batch_size=batch_size, shuffle=True)\n",
        "testloader = torch.utils.data.DataLoader(testdataset, batch_size=batch_size, shuffle=True)\n",
        "\n",
        "print(\"Number of Samples in Train: \",len(train_dataset))\n",
        "print(\"Number of Samples in Valid: \",len(valid_dataset))\n",
        "print(\"Number of Samples in Test: \",len(testdataset))\n",
        "print(\"Total: \",len(testdataset)+len(valid_dataset)+len(train_dataset))\n",
        "\n",
        "print(\"Number of Classes: \",len(testdataset.classes))\n",
        "\n",
        "print(dataset.classes)\n",
        "\n"
      ],
      "execution_count": 9,
      "outputs": [
        {
          "output_type": "stream",
          "text": [
            "Number of Samples in Train:  8409\n",
            "Number of Samples in Valid:  934\n",
            "Number of Samples in Test:  3194\n",
            "Total:  12537\n",
            "Number of Classes:  150\n",
            "['AM General Hummer SUV 2000', 'Acura Integra Type R 2001', 'Acura TL Sedan 2012', 'Acura TL Type-S 2008', 'Acura TSX Sedan 2012', 'Acura ZDX Hatchback 2012', 'Aston Martin V8 Vantage Coupe 2012', 'Aston Martin Virage Coupe 2012', 'Audi A5 Coupe 2012', 'Audi R8 Coupe 2012', 'Audi RS 4 Convertible 2008', 'Audi S4 Sedan 2007', 'Audi S5 Convertible 2012', 'Audi S6 Sedan 2011', 'Audi V8 Sedan 1994', 'BMW 1 Series Convertible 2012', 'BMW 1 Series Coupe 2012', 'BMW 3 Series Wagon 2012', 'BMW ActiveHybrid 5 Sedan 2012', 'BMW M3 Coupe 2012', 'BMW M6 Convertible 2010', 'BMW X3 SUV 2012', 'BMW X5 SUV 2007', 'BMW X6 SUV 2012', 'Bentley Arnage Sedan 2009', 'Bentley Continental GT Coupe 2007', 'Bentley Continental Supersports Conv. Convertible 2012', 'Bentley Mulsanne Sedan 2011', 'Bugatti Veyron 16.4 Convertible 2009', 'Bugatti Veyron 16.4 Coupe 2009', 'Buick Enclave SUV 2012', 'Buick Rainier SUV 2007', 'Buick Regal GS 2012', 'Buick Verano Sedan 2012', 'Cadillac CTS-V Sedan 2012', 'Cadillac Escalade EXT Crew Cab 2007', 'Cadillac SRX SUV 2012', 'Chevrolet Corvette Convertible 2012', 'Chevrolet Corvette Ron Fellows Edition Z06 2007', 'Chevrolet Corvette ZR1 2012', 'Chevrolet Express Van 2007', 'Chevrolet HHR SS 2010', 'Chevrolet Impala Sedan 2007', 'Chevrolet Silverado 1500 Classic Extended Cab 2007', 'Chevrolet Silverado 1500 Regular Cab 2012', 'Chevrolet Sonic Sedan 2012', 'Chevrolet TrailBlazer SS 2009', 'Chrysler Aspen SUV 2009', 'Chrysler Crossfire Convertible 2008', 'Chrysler PT Cruiser Convertible 2008', 'Chrysler Town and Country Minivan 2012', 'Daewoo Nubira Wagon 2002', 'Dodge Caravan Minivan 1997', 'Dodge Challenger SRT8 2011', 'Dodge Charger Sedan 2012', 'Dodge Dakota Club Cab 2007', 'Dodge Dakota Crew Cab 2010', 'Dodge Durango SUV 2007', 'Dodge Durango SUV 2012', 'Dodge Journey SUV 2012', 'Dodge Magnum Wagon 2008', 'Dodge Ram Pickup 3500 Crew Cab 2010', 'Dodge Ram Pickup 3500 Quad Cab 2009', 'Eagle Talon Hatchback 1998', 'FIAT 500 Abarth 2012', 'FIAT 500 Convertible 2012', 'Ferrari 458 Italia Coupe 2012', 'Ferrari California Convertible 2012', 'Ferrari FF Coupe 2012', 'Fisker Karma Sedan 2012', 'Ford E-Series Wagon Van 2012', 'Ford Edge SUV 2012', 'Ford Expedition EL SUV 2009', 'Ford F-150 Regular Cab 2007', 'Ford F-150 Regular Cab 2012', 'Ford F-450 Super Duty Crew Cab 2012', 'Ford Fiesta Sedan 2012', 'Ford Focus Sedan 2007', 'Ford Freestar Minivan 2007', 'Ford GT Coupe 2006', 'Ford Ranger SuperCab 2011', 'GMC Acadia SUV 2012', 'GMC Canyon Extended Cab 2012', 'GMC Savana Van 2012', 'GMC Terrain SUV 2012', 'GMC Yukon Hybrid SUV 2012', 'Geo Metro Convertible 1993', 'HUMMER H2 SUT Crew Cab 2009', 'HUMMER H3T Crew Cab 2010', 'Honda Accord Coupe 2012', 'Honda Odyssey Minivan 2012', 'Hyundai Accent Sedan 2012', 'Hyundai Azera Sedan 2012', 'Hyundai Elantra Sedan 2007', 'Hyundai Elantra Touring Hatchback 2012', 'Hyundai Genesis Sedan 2012', 'Hyundai Santa Fe SUV 2012', 'Hyundai Sonata Hybrid Sedan 2012', 'Hyundai Sonata Sedan 2012', 'Hyundai Tucson SUV 2012', 'Hyundai Veloster Hatchback 2012', 'Infiniti G Coupe IPL 2012', 'Infiniti QX56 SUV 2011', 'Isuzu Ascender SUV 2008', 'Jaguar XK XKR 2012', 'Jeep Compass SUV 2012', 'Jeep Patriot SUV 2012', 'Jeep Wrangler SUV 2012', 'Lamborghini Aventador Coupe 2012', 'Lamborghini Diablo Coupe 2001', 'Lamborghini Gallardo LP 570-4 Superleggera 2012', 'Lamborghini Reventon Coupe 2008', 'Land Rover LR2 SUV 2012', 'Land Rover Range Rover SUV 2012', 'Lincoln Town Car Sedan 2011', 'MINI Cooper Roadster Convertible 2012', 'Maybach Landaulet Convertible 2012', 'Mazda Tribute SUV 2011', 'McLaren MP4-12C Coupe 2012', 'Mercedes-Benz 300-Class Convertible 1993', 'Mercedes-Benz C-Class Sedan 2012', 'Mercedes-Benz S-Class Sedan 2012', 'Mercedes-Benz SL-Class Coupe 2009', 'Mercedes-Benz Sprinter Van 2012', 'Mitsubishi Lancer Sedan 2012', 'Nissan 240SX Coupe 1998', 'Nissan Juke Hatchback 2012', 'Nissan Leaf Hatchback 2012', 'Nissan NV Passenger Van 2012', 'Plymouth Neon Coupe 1999', 'Ram C-V Cargo Van Minivan 2012', 'Rolls-Royce Ghost Sedan 2012', 'Rolls-Royce Phantom Drophead Coupe Convertible 2012', 'Scion xD Hatchback 2012', 'Spyker C8 Convertible 2009', 'Suzuki Aerio Sedan 2007', 'Suzuki Kizashi Sedan 2012', 'Suzuki SX4 Sedan 2012', 'Tesla Model S Sedan 2012', 'Toyota 4Runner SUV 2012', 'Toyota Camry Sedan 2012', 'Toyota Corolla Sedan 2012', 'Toyota Sequoia SUV 2012', 'Volkswagen Beetle Hatchback 2012', 'Volkswagen Golf Hatchback 1991', 'Volkswagen Golf Hatchback 2012', 'Volvo 240 Sedan 1993', 'Volvo C30 Hatchback 2012', 'Volvo XC90 SUV 2007', 'smart fortwo Convertible 2012']\n"
          ],
          "name": "stdout"
        }
      ]
    },
    {
      "cell_type": "code",
      "metadata": {
        "id": "2S2mJ2QeSWF3",
        "colab_type": "code",
        "colab": {
          "base_uri": "https://localhost:8080/",
          "height": 34
        },
        "outputId": "9016675b-d934-41c2-f61b-3819cc61b6e4"
      },
      "source": [
        "device = torch.device(\"cuda\" if torch.cuda.is_available() else \"cpu\")\n",
        "print(device)"
      ],
      "execution_count": 10,
      "outputs": [
        {
          "output_type": "stream",
          "text": [
            "cuda\n"
          ],
          "name": "stdout"
        }
      ]
    },
    {
      "cell_type": "code",
      "metadata": {
        "id": "QY5z03TMocIX",
        "colab_type": "code",
        "colab": {
          "base_uri": "https://localhost:8080/",
          "height": 1000,
          "referenced_widgets": [
            "bc17866a1037429982875898924d67cc",
            "807fb9e703e64e5fb3b79d3857f2e34f",
            "f497f6d41eb74ffca705a39461bd43c7",
            "d4de79dad66e4473bc78ad789bb12e68",
            "470b5772f74f462d87e5177d34841829",
            "37588f490c16470e969495982143ffa9",
            "d1be1547d4cf467dac9ee8f1c3ab7168",
            "fdc6bfbc230c4c5c8d7da2bf58d41a15"
          ]
        },
        "outputId": "321491e7-c01a-4665-8a22-e37a1380814d"
      },
      "source": [
        "#loading pre define ResNet model \n",
        "model = models.resnet34(pretrained=True)\n",
        "#****************CHANGING THE OUTPUT LAYER A/C to our requirement*********************\n",
        "num_ftrs = model.fc.in_features\n",
        "model.fc = nn.Linear(num_ftrs, 150)\n",
        "model = model.to(device)\n",
        "\n",
        "\n",
        "summary(model, input_size=(3, 244, 244))"
      ],
      "execution_count": 11,
      "outputs": [
        {
          "output_type": "stream",
          "text": [
            "Downloading: \"https://download.pytorch.org/models/resnet34-333f7ec4.pth\" to /root/.cache/torch/hub/checkpoints/resnet34-333f7ec4.pth\n"
          ],
          "name": "stderr"
        },
        {
          "output_type": "display_data",
          "data": {
            "application/vnd.jupyter.widget-view+json": {
              "model_id": "bc17866a1037429982875898924d67cc",
              "version_minor": 0,
              "version_major": 2
            },
            "text/plain": [
              "HBox(children=(FloatProgress(value=0.0, max=87306240.0), HTML(value='')))"
            ]
          },
          "metadata": {
            "tags": []
          }
        },
        {
          "output_type": "stream",
          "text": [
            "\n",
            "----------------------------------------------------------------\n",
            "        Layer (type)               Output Shape         Param #\n",
            "================================================================\n",
            "            Conv2d-1         [-1, 64, 122, 122]           9,408\n",
            "       BatchNorm2d-2         [-1, 64, 122, 122]             128\n",
            "              ReLU-3         [-1, 64, 122, 122]               0\n",
            "         MaxPool2d-4           [-1, 64, 61, 61]               0\n",
            "            Conv2d-5           [-1, 64, 61, 61]          36,864\n",
            "       BatchNorm2d-6           [-1, 64, 61, 61]             128\n",
            "              ReLU-7           [-1, 64, 61, 61]               0\n",
            "            Conv2d-8           [-1, 64, 61, 61]          36,864\n",
            "       BatchNorm2d-9           [-1, 64, 61, 61]             128\n",
            "             ReLU-10           [-1, 64, 61, 61]               0\n",
            "       BasicBlock-11           [-1, 64, 61, 61]               0\n",
            "           Conv2d-12           [-1, 64, 61, 61]          36,864\n",
            "      BatchNorm2d-13           [-1, 64, 61, 61]             128\n",
            "             ReLU-14           [-1, 64, 61, 61]               0\n",
            "           Conv2d-15           [-1, 64, 61, 61]          36,864\n",
            "      BatchNorm2d-16           [-1, 64, 61, 61]             128\n",
            "             ReLU-17           [-1, 64, 61, 61]               0\n",
            "       BasicBlock-18           [-1, 64, 61, 61]               0\n",
            "           Conv2d-19           [-1, 64, 61, 61]          36,864\n",
            "      BatchNorm2d-20           [-1, 64, 61, 61]             128\n",
            "             ReLU-21           [-1, 64, 61, 61]               0\n",
            "           Conv2d-22           [-1, 64, 61, 61]          36,864\n",
            "      BatchNorm2d-23           [-1, 64, 61, 61]             128\n",
            "             ReLU-24           [-1, 64, 61, 61]               0\n",
            "       BasicBlock-25           [-1, 64, 61, 61]               0\n",
            "           Conv2d-26          [-1, 128, 31, 31]          73,728\n",
            "      BatchNorm2d-27          [-1, 128, 31, 31]             256\n",
            "             ReLU-28          [-1, 128, 31, 31]               0\n",
            "           Conv2d-29          [-1, 128, 31, 31]         147,456\n",
            "      BatchNorm2d-30          [-1, 128, 31, 31]             256\n",
            "           Conv2d-31          [-1, 128, 31, 31]           8,192\n",
            "      BatchNorm2d-32          [-1, 128, 31, 31]             256\n",
            "             ReLU-33          [-1, 128, 31, 31]               0\n",
            "       BasicBlock-34          [-1, 128, 31, 31]               0\n",
            "           Conv2d-35          [-1, 128, 31, 31]         147,456\n",
            "      BatchNorm2d-36          [-1, 128, 31, 31]             256\n",
            "             ReLU-37          [-1, 128, 31, 31]               0\n",
            "           Conv2d-38          [-1, 128, 31, 31]         147,456\n",
            "      BatchNorm2d-39          [-1, 128, 31, 31]             256\n",
            "             ReLU-40          [-1, 128, 31, 31]               0\n",
            "       BasicBlock-41          [-1, 128, 31, 31]               0\n",
            "           Conv2d-42          [-1, 128, 31, 31]         147,456\n",
            "      BatchNorm2d-43          [-1, 128, 31, 31]             256\n",
            "             ReLU-44          [-1, 128, 31, 31]               0\n",
            "           Conv2d-45          [-1, 128, 31, 31]         147,456\n",
            "      BatchNorm2d-46          [-1, 128, 31, 31]             256\n",
            "             ReLU-47          [-1, 128, 31, 31]               0\n",
            "       BasicBlock-48          [-1, 128, 31, 31]               0\n",
            "           Conv2d-49          [-1, 128, 31, 31]         147,456\n",
            "      BatchNorm2d-50          [-1, 128, 31, 31]             256\n",
            "             ReLU-51          [-1, 128, 31, 31]               0\n",
            "           Conv2d-52          [-1, 128, 31, 31]         147,456\n",
            "      BatchNorm2d-53          [-1, 128, 31, 31]             256\n",
            "             ReLU-54          [-1, 128, 31, 31]               0\n",
            "       BasicBlock-55          [-1, 128, 31, 31]               0\n",
            "           Conv2d-56          [-1, 256, 16, 16]         294,912\n",
            "      BatchNorm2d-57          [-1, 256, 16, 16]             512\n",
            "             ReLU-58          [-1, 256, 16, 16]               0\n",
            "           Conv2d-59          [-1, 256, 16, 16]         589,824\n",
            "      BatchNorm2d-60          [-1, 256, 16, 16]             512\n",
            "           Conv2d-61          [-1, 256, 16, 16]          32,768\n",
            "      BatchNorm2d-62          [-1, 256, 16, 16]             512\n",
            "             ReLU-63          [-1, 256, 16, 16]               0\n",
            "       BasicBlock-64          [-1, 256, 16, 16]               0\n",
            "           Conv2d-65          [-1, 256, 16, 16]         589,824\n",
            "      BatchNorm2d-66          [-1, 256, 16, 16]             512\n",
            "             ReLU-67          [-1, 256, 16, 16]               0\n",
            "           Conv2d-68          [-1, 256, 16, 16]         589,824\n",
            "      BatchNorm2d-69          [-1, 256, 16, 16]             512\n",
            "             ReLU-70          [-1, 256, 16, 16]               0\n",
            "       BasicBlock-71          [-1, 256, 16, 16]               0\n",
            "           Conv2d-72          [-1, 256, 16, 16]         589,824\n",
            "      BatchNorm2d-73          [-1, 256, 16, 16]             512\n",
            "             ReLU-74          [-1, 256, 16, 16]               0\n",
            "           Conv2d-75          [-1, 256, 16, 16]         589,824\n",
            "      BatchNorm2d-76          [-1, 256, 16, 16]             512\n",
            "             ReLU-77          [-1, 256, 16, 16]               0\n",
            "       BasicBlock-78          [-1, 256, 16, 16]               0\n",
            "           Conv2d-79          [-1, 256, 16, 16]         589,824\n",
            "      BatchNorm2d-80          [-1, 256, 16, 16]             512\n",
            "             ReLU-81          [-1, 256, 16, 16]               0\n",
            "           Conv2d-82          [-1, 256, 16, 16]         589,824\n",
            "      BatchNorm2d-83          [-1, 256, 16, 16]             512\n",
            "             ReLU-84          [-1, 256, 16, 16]               0\n",
            "       BasicBlock-85          [-1, 256, 16, 16]               0\n",
            "           Conv2d-86          [-1, 256, 16, 16]         589,824\n",
            "      BatchNorm2d-87          [-1, 256, 16, 16]             512\n",
            "             ReLU-88          [-1, 256, 16, 16]               0\n",
            "           Conv2d-89          [-1, 256, 16, 16]         589,824\n",
            "      BatchNorm2d-90          [-1, 256, 16, 16]             512\n",
            "             ReLU-91          [-1, 256, 16, 16]               0\n",
            "       BasicBlock-92          [-1, 256, 16, 16]               0\n",
            "           Conv2d-93          [-1, 256, 16, 16]         589,824\n",
            "      BatchNorm2d-94          [-1, 256, 16, 16]             512\n",
            "             ReLU-95          [-1, 256, 16, 16]               0\n",
            "           Conv2d-96          [-1, 256, 16, 16]         589,824\n",
            "      BatchNorm2d-97          [-1, 256, 16, 16]             512\n",
            "             ReLU-98          [-1, 256, 16, 16]               0\n",
            "       BasicBlock-99          [-1, 256, 16, 16]               0\n",
            "          Conv2d-100            [-1, 512, 8, 8]       1,179,648\n",
            "     BatchNorm2d-101            [-1, 512, 8, 8]           1,024\n",
            "            ReLU-102            [-1, 512, 8, 8]               0\n",
            "          Conv2d-103            [-1, 512, 8, 8]       2,359,296\n",
            "     BatchNorm2d-104            [-1, 512, 8, 8]           1,024\n",
            "          Conv2d-105            [-1, 512, 8, 8]         131,072\n",
            "     BatchNorm2d-106            [-1, 512, 8, 8]           1,024\n",
            "            ReLU-107            [-1, 512, 8, 8]               0\n",
            "      BasicBlock-108            [-1, 512, 8, 8]               0\n",
            "          Conv2d-109            [-1, 512, 8, 8]       2,359,296\n",
            "     BatchNorm2d-110            [-1, 512, 8, 8]           1,024\n",
            "            ReLU-111            [-1, 512, 8, 8]               0\n",
            "          Conv2d-112            [-1, 512, 8, 8]       2,359,296\n",
            "     BatchNorm2d-113            [-1, 512, 8, 8]           1,024\n",
            "            ReLU-114            [-1, 512, 8, 8]               0\n",
            "      BasicBlock-115            [-1, 512, 8, 8]               0\n",
            "          Conv2d-116            [-1, 512, 8, 8]       2,359,296\n",
            "     BatchNorm2d-117            [-1, 512, 8, 8]           1,024\n",
            "            ReLU-118            [-1, 512, 8, 8]               0\n",
            "          Conv2d-119            [-1, 512, 8, 8]       2,359,296\n",
            "     BatchNorm2d-120            [-1, 512, 8, 8]           1,024\n",
            "            ReLU-121            [-1, 512, 8, 8]               0\n",
            "      BasicBlock-122            [-1, 512, 8, 8]               0\n",
            "AdaptiveAvgPool2d-123            [-1, 512, 1, 1]               0\n",
            "          Linear-124                  [-1, 150]          76,950\n",
            "================================================================\n",
            "Total params: 21,361,622\n",
            "Trainable params: 21,361,622\n",
            "Non-trainable params: 0\n",
            "----------------------------------------------------------------\n",
            "Input size (MB): 0.68\n",
            "Forward/backward pass size (MB): 117.68\n",
            "Params size (MB): 81.49\n",
            "Estimated Total Size (MB): 199.85\n",
            "----------------------------------------------------------------\n"
          ],
          "name": "stdout"
        }
      ]
    },
    {
      "cell_type": "code",
      "metadata": {
        "id": "MD-dilpFot2b",
        "colab_type": "code",
        "colab": {}
      },
      "source": [
        "criterion = nn.CrossEntropyLoss()\n",
        "optimizer = optim.SGD(model.parameters(), lr=0.01, momentum=0.9)\n",
        "lrscheduler = optim.lr_scheduler.ReduceLROnPlateau(optimizer, mode='max', patience=3, threshold = 0.9)"
      ],
      "execution_count": 12,
      "outputs": []
    },
    {
      "cell_type": "code",
      "metadata": {
        "id": "LRJ0Vcchozji",
        "colab_type": "code",
        "colab": {}
      },
      "source": [
        "# Implement a function for the validation pass\n",
        "def validation(model, validloader, criterion):\n",
        "    valid_loss = 0\n",
        "    accuracy = 0\n",
        "    \n",
        "    # change model to work with cuda\n",
        "    model.to(device)\n",
        "\n",
        "    # Iterate over data from validloader\n",
        "    for ii, (images, labels) in enumerate(validloader):\n",
        "    \n",
        "        # Change images and labels to work with cuda\n",
        "        images, labels = images.to(device), labels.to(device)\n",
        "        \n",
        "        # Forward pass image though model for prediction\n",
        "        output = model.forward(images)\n",
        "        # Calculate loss\n",
        "        valid_loss += criterion(output, labels).item()\n",
        "        # Calculate probability\n",
        "        ps = torch.exp(output)\n",
        "        \n",
        "        # Calculate accuracy\n",
        "        equality = (labels.data == ps.max(dim=1)[1])\n",
        "        accuracy += equality.type(torch.FloatTensor).mean()\n",
        "    \n",
        "    return valid_loss, accuracy"
      ],
      "execution_count": 13,
      "outputs": []
    },
    {
      "cell_type": "code",
      "metadata": {
        "id": "94lxORYao8fm",
        "colab_type": "code",
        "colab": {
          "base_uri": "https://localhost:8080/",
          "height": 884
        },
        "outputId": "005a0a62-9c75-4c4b-cc7e-84564e5cf2c1"
      },
      "source": [
        "epochs = 12\n",
        "steps = 0\n",
        "print_every = 40\n",
        "\n",
        "#for ploting Graphs\n",
        "valid_loss_A = [0,0,0,0,0,0,0,0,0,0,0,0]\n",
        "valid_accuracy_A= [0,0,0,0,0,0,0,0,0,0,0,0]\n",
        "train_loss_A= [0,0,0,0,0,0,0,0,0,0,0,0]\n",
        "\n",
        "#change to gpu mode\n",
        "model.to(device)\n",
        "model.train()\n",
        "\n",
        "for e in range(epochs):\n",
        "    print(\"Starting Epoch\",e+1)\n",
        "    running_loss = 0\n",
        "    \n",
        "    # Iterating over data to carry out training step\n",
        "    for ii, (inputs, labels) in enumerate(trainloader):\n",
        "        steps += 1\n",
        "        \n",
        "        inputs, labels = inputs.to(device), labels.to(device)\n",
        "        \n",
        "        # zeroing parameter gradients\n",
        "        optimizer.zero_grad()\n",
        "        \n",
        "        # Forward and backward passes\n",
        "        outputs = model.forward(inputs)\n",
        "        loss = criterion(outputs, labels)\n",
        "        loss.backward()\n",
        "        optimizer.step()\n",
        "        running_loss += loss.item()\n",
        "        \n",
        "        # Carrying out validation step\n",
        "        if steps % print_every == 0:\n",
        "            # setting model to evaluation mode during validation\n",
        "            model.eval()\n",
        "            # Gradients are turned off as no longer in training\n",
        "            with torch.no_grad():\n",
        "                valid_loss, accuracy = validation(model, validloader, criterion)\n",
        "            \n",
        "            ValidLoss = round(valid_loss/len(validloader),3)\n",
        "            ValidAccuracy = round(float(accuracy/len(validloader)),3)\n",
        "            TrainingLoss = round(running_loss/print_every,3)\n",
        "\n",
        "            print(\"No. epochs:\",(e+1),\"\\tTraining Loss:\",TrainingLoss,\"\\tValid Loss\",ValidLoss,\"\\tValid Accuracy\",ValidAccuracy)\n",
        "            \n",
        "            valid_loss_A[e] = ValidLoss\n",
        "            valid_accuracy_A[e] = ValidAccuracy\n",
        "            train_loss_A[e] =  TrainingLoss\n",
        "\n",
        "\n",
        "            if (e+1) % 10 == 0 :\n",
        "              #Saving: feature weights, new model.fc, index-to-class mapping, optimiser state, and No. of epochs\n",
        "              checkpoint = {\n",
        "              'state_dict': model.state_dict(),\n",
        "              'model': model.fc,\n",
        "              'class_to_idx': dataset.class_to_idx,\n",
        "              'opt_state': optimizer.state_dict,\n",
        "              'num_epochs': epochs}\n",
        "              #name = str(e)\n",
        "              path = '/content/drive/My Drive/Colab Notebooks/model/modelFinal.pth'\n",
        "              torch.save(checkpoint, path)\n",
        "\n",
        "            # Turning training back on\n",
        "            model.train()\n",
        "            lrscheduler.step(accuracy * 100)\n"
      ],
      "execution_count": 14,
      "outputs": [
        {
          "output_type": "stream",
          "text": [
            "Starting Epoch 1\n",
            "No. epochs: 1 \tTraining Loss: 4.91 \tValid Loss 4.413 \tValid Accuracy 0.066\n",
            "No. epochs: 1 \tTraining Loss: 8.769 \tValid Loss 3.373 \tValid Accuracy 0.23\n",
            "No. epochs: 1 \tTraining Loss: 11.676 \tValid Loss 2.85 \tValid Accuracy 0.288\n",
            "Starting Epoch 2\n",
            "No. epochs: 2 \tTraining Loss: 1.347 \tValid Loss 2.203 \tValid Accuracy 0.43\n",
            "No. epochs: 2 \tTraining Loss: 2.949 \tValid Loss 1.771 \tValid Accuracy 0.547\n",
            "No. epochs: 2 \tTraining Loss: 4.283 \tValid Loss 1.701 \tValid Accuracy 0.54\n",
            "Starting Epoch 3\n",
            "No. epochs: 3 \tTraining Loss: 0.354 \tValid Loss 1.649 \tValid Accuracy 0.55\n",
            "No. epochs: 3 \tTraining Loss: 1.192 \tValid Loss 1.548 \tValid Accuracy 0.588\n",
            "No. epochs: 3 \tTraining Loss: 1.948 \tValid Loss 1.158 \tValid Accuracy 0.665\n",
            "Starting Epoch 4\n",
            "No. epochs: 4 \tTraining Loss: 0.041 \tValid Loss 0.7 \tValid Accuracy 0.832\n",
            "No. epochs: 4 \tTraining Loss: 0.438 \tValid Loss 0.662 \tValid Accuracy 0.832\n",
            "No. epochs: 4 \tTraining Loss: 0.816 \tValid Loss 0.651 \tValid Accuracy 0.844\n",
            "No. epochs: 4 \tTraining Loss: 1.148 \tValid Loss 0.645 \tValid Accuracy 0.839\n",
            "Starting Epoch 5\n",
            "No. epochs: 5 \tTraining Loss: 0.27 \tValid Loss 0.618 \tValid Accuracy 0.855\n",
            "No. epochs: 5 \tTraining Loss: 0.579 \tValid Loss 0.639 \tValid Accuracy 0.847\n",
            "No. epochs: 5 \tTraining Loss: 0.875 \tValid Loss 0.598 \tValid Accuracy 0.861\n",
            "Starting Epoch 6\n",
            "No. epochs: 6 \tTraining Loss: 0.147 \tValid Loss 0.617 \tValid Accuracy 0.854\n",
            "No. epochs: 6 \tTraining Loss: 0.45 \tValid Loss 0.614 \tValid Accuracy 0.848\n",
            "No. epochs: 6 \tTraining Loss: 0.762 \tValid Loss 0.615 \tValid Accuracy 0.851\n",
            "Starting Epoch 7\n",
            "No. epochs: 7 \tTraining Loss: 0.054 \tValid Loss 0.633 \tValid Accuracy 0.842\n",
            "No. epochs: 7 \tTraining Loss: 0.356 \tValid Loss 0.598 \tValid Accuracy 0.858\n",
            "No. epochs: 7 \tTraining Loss: 0.673 \tValid Loss 0.618 \tValid Accuracy 0.857\n",
            "No. epochs: 7 \tTraining Loss: 0.977 \tValid Loss 0.612 \tValid Accuracy 0.847\n",
            "Starting Epoch 8\n",
            "No. epochs: 8 \tTraining Loss: 0.268 \tValid Loss 0.602 \tValid Accuracy 0.848\n",
            "No. epochs: 8 \tTraining Loss: 0.584 \tValid Loss 0.594 \tValid Accuracy 0.87\n",
            "No. epochs: 8 \tTraining Loss: 0.877 \tValid Loss 0.61 \tValid Accuracy 0.853\n",
            "Starting Epoch 9\n",
            "No. epochs: 9 \tTraining Loss: 0.184 \tValid Loss 0.646 \tValid Accuracy 0.835\n",
            "No. epochs: 9 \tTraining Loss: 0.476 \tValid Loss 0.619 \tValid Accuracy 0.86\n",
            "No. epochs: 9 \tTraining Loss: 0.784 \tValid Loss 0.598 \tValid Accuracy 0.86\n",
            "Starting Epoch 10\n",
            "No. epochs: 10 \tTraining Loss: 0.09 \tValid Loss 0.6 \tValid Accuracy 0.842\n",
            "No. epochs: 10 \tTraining Loss: 0.396 \tValid Loss 0.605 \tValid Accuracy 0.855\n",
            "No. epochs: 10 \tTraining Loss: 0.688 \tValid Loss 0.616 \tValid Accuracy 0.839\n",
            "No. epochs: 10 \tTraining Loss: 0.996 \tValid Loss 0.607 \tValid Accuracy 0.863\n",
            "Starting Epoch 11\n",
            "No. epochs: 11 \tTraining Loss: 0.3 \tValid Loss 0.609 \tValid Accuracy 0.864\n",
            "No. epochs: 11 \tTraining Loss: 0.597 \tValid Loss 0.628 \tValid Accuracy 0.842\n",
            "No. epochs: 11 \tTraining Loss: 0.904 \tValid Loss 0.617 \tValid Accuracy 0.841\n",
            "Starting Epoch 12\n",
            "No. epochs: 12 \tTraining Loss: 0.218 \tValid Loss 0.594 \tValid Accuracy 0.863\n",
            "No. epochs: 12 \tTraining Loss: 0.5 \tValid Loss 0.611 \tValid Accuracy 0.853\n",
            "No. epochs: 12 \tTraining Loss: 0.807 \tValid Loss 0.597 \tValid Accuracy 0.846\n"
          ],
          "name": "stdout"
        }
      ]
    },
    {
      "cell_type": "code",
      "metadata": {
        "id": "XIu3BRfAN_jM",
        "colab_type": "code",
        "colab": {
          "base_uri": "https://localhost:8080/",
          "height": 573
        },
        "outputId": "e83c3525-dea8-438e-9d64-88b1b5a01363"
      },
      "source": [
        "\n",
        "#valid_loss_A= [0.761, 0.418, 0.413, 0.394, 0.389, 0.393, 0.382, 0.374, 0.382, 0.391, 0.388, 0.407]\n",
        "#valid_accuracy_A= [0.775, 0.888, 0.876, 0.887, 0.893, 0.893, 0.887, 0.898, 0.898, 0.883, 0.889, 0.891]\n",
        "#train_loss_A = [0.913, 0.477, 0.238, 0.27, 0.237, 0.221, 0.266, 0.26, 0.224, 0.278, 0.264, 0.244]\n",
        "\n",
        "\n",
        "\n",
        "epochs = range(len(valid_accuracy_A))\n",
        "\n",
        "\n",
        "plt.plot(epochs, valid_loss_A, 'r', label='Valid Loss')\n",
        "plt.plot(epochs, train_loss_A, 'b', label='Train Loss')\n",
        "plt.title('Valid Loss and Train Loss')\n",
        "plt.ylabel('Loss') \n",
        "plt.xlabel('Epochs')\n",
        "plt.legend()\n",
        "plt.figure()\n",
        "plt.plot(epochs, valid_loss_A, 'r', label='Valid Loss')\n",
        "plt.plot(epochs, valid_accuracy_A, 'b', label='Valid Accuracy')\n",
        "plt.title('Valid Loss and Valid Accuracy')\n",
        "plt.ylabel('Validation') \n",
        "plt.xlabel('Epochs')\n",
        "plt.legend()\n",
        "plt.show()\n"
      ],
      "execution_count": 15,
      "outputs": [
        {
          "output_type": "display_data",
          "data": {
            "image/png": "[encoded data removed]",
            "text/plain": [
              "<Figure size 432x288 with 1 Axes>"
            ]
          },
          "metadata": {
            "tags": [],
            "needs_background": "light"
          }
        },
        {
          "output_type": "display_data",
          "data": {
            "image/png": "[encoded data removed]",
            "text/plain": [
              "<Figure size 432x288 with 1 Axes>"
            ]
          },
          "metadata": {
            "tags": [],
            "needs_background": "light"
          }
        }
      ]
    },
    {
      "cell_type": "code",
      "metadata": {
        "id": "flt_xglo45zD",
        "colab_type": "code",
        "colab": {}
      },
      "source": [
        ""
      ],
      "execution_count": 15,
      "outputs": []
    }
  ]
}